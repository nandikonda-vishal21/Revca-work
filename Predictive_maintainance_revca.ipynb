{
  "nbformat": 4,
  "nbformat_minor": 0,
  "metadata": {
    "colab": {
      "name": "Predictive-maintainance-revca.ipynb",
      "provenance": [],
      "collapsed_sections": [],
      "authorship_tag": "ABX9TyN9dY/uNnUSZ54BOoEtei3I",
      "include_colab_link": true
    },
    "kernelspec": {
      "name": "python3",
      "display_name": "Python 3"
    },
    "language_info": {
      "name": "python"
    }
  },
  "cells": [
    {
      "cell_type": "markdown",
      "metadata": {
        "id": "view-in-github",
        "colab_type": "text"
      },
      "source": [
        "<a href=\"https://colab.research.google.com/github/nandikonda-vishal21/Revca-work/blob/main/Predictive_maintainance_revca.ipynb\" target=\"_parent\"><img src=\"https://colab.research.google.com/assets/colab-badge.svg\" alt=\"Open In Colab\"/></a>"
      ]
    },
    {
      "cell_type": "markdown",
      "source": [
        "**Binary classification**\n",
        "\n",
        "Predict if an asset will fail within certain time frame (e.g. cycles)"
      ],
      "metadata": {
        "id": "UDG5dIKWPHdS"
      }
    },
    {
      "cell_type": "code",
      "execution_count": null,
      "metadata": {
        "id": "o8xEdTq5NaBZ"
      },
      "outputs": [],
      "source": [
        "import keras\n",
        "import pandas as pd\n",
        "import numpy as np\n",
        "import matplotlib.pyplot as plt\n",
        "import os\n",
        "\n",
        "# Setting seed for reproducibility\n",
        "np.random.seed(1234)  \n",
        "PYTHONHASHSEED = 0\n",
        "\n",
        "from sklearn import preprocessing\n",
        "from sklearn.metrics import confusion_matrix, recall_score, precision_score\n",
        "from keras.models import Sequential,load_model\n",
        "from keras.layers import Dense, Dropout, LSTM\n",
        "\n",
        "# define path to save model\n",
        "model_path = 'binary_model.h5'"
      ]
    },
    {
      "cell_type": "markdown",
      "source": [
        "**Data Ingestion**"
      ],
      "metadata": {
        "id": "9rtDjqVmQy1p"
      }
    },
    {
      "cell_type": "code",
      "source": [
        "# read training data - It is the aircraft engine run-to-failure data.\n",
        "train_df = pd.read_csv('/content/PM_train.txt',sep=\" \", header=None)\n",
        "train_df.drop(train_df.columns[[26, 27]], axis=1, inplace=True)\n",
        "train_df.columns = ['id', 'cycle', 'setting1', 'setting2', 'setting3', 's1', 's2', 's3',\n",
        "                     's4', 's5', 's6', 's7', 's8', 's9', 's10', 's11', 's12', 's13', 's14',\n",
        "                     's15', 's16', 's17', 's18', 's19', 's20', 's21']\n",
        "\n",
        "train_df = train_df.sort_values(['id','cycle'])\n",
        "\n",
        "# read test data - It is the aircraft engine operating data without failure events recorded.\n",
        "test_df = pd.read_csv('/content/PM_test.txt',sep=\" \", header=None)\n",
        "test_df.drop(test_df.columns[[26, 27]], axis=1, inplace=True)\n",
        "test_df.columns = ['id', 'cycle', 'setting1', 'setting2', 'setting3', 's1', 's2', 's3',\n",
        "                     's4', 's5', 's6', 's7', 's8', 's9', 's10', 's11', 's12', 's13', 's14',\n",
        "                     's15', 's16', 's17', 's18', 's19', 's20', 's21']\n",
        "\n",
        "# read ground truth data - It contains the information of true remaining cycles for each engine in the testing data.\n",
        "truth_df = pd.read_csv('/content/PM_truth.txt',sep=\" \", header=None)\n",
        "truth_df.drop(truth_df.columns[[1]], axis=1, inplace=True)"
      ],
      "metadata": {
        "id": "FvIDqyMRPM8s"
      },
      "execution_count": null,
      "outputs": []
    },
    {
      "cell_type": "markdown",
      "source": [
        "**Data Preprocessing**"
      ],
      "metadata": {
        "id": "m9cV9YK7UBMd"
      }
    },
    {
      "cell_type": "code",
      "source": [
        "#######\n",
        "# TRAIN\n",
        "#######\n",
        "# Data Labeling - generate column RUL(Remaining Usefull Life or Time to Failure)\n",
        "rul = pd.DataFrame(train_df.groupby('id')['cycle'].max()).reset_index()\n",
        "rul.columns = ['id', 'max']\n",
        "train_df = train_df.merge(rul, on=['id'], how='left')\n",
        "train_df['RUL'] = train_df['max'] - train_df['cycle']\n",
        "train_df.drop('max', axis=1, inplace=True)\n",
        "# generate label columns for training data\n",
        "# we will only make use of \"label1\" for binary classification, \n",
        "# while trying to answer the question: is a specific engine going to fail within w1 cycles?\n",
        "w1 = 30\n",
        "w0 = 15\n",
        "train_df['label1'] = np.where(train_df['RUL'] <= w1, 1, 0 )\n",
        "train_df['label2'] = train_df['label1']\n",
        "train_df.loc[train_df['RUL'] <= w0, 'label2'] = 2\n",
        "\n",
        "# MinMax normalization (from 0 to 1)\n",
        "train_df['cycle_norm'] = train_df['cycle']\n",
        "cols_normalize = train_df.columns.difference(['id','cycle','RUL','label1','label2'])\n",
        "min_max_scaler = preprocessing.MinMaxScaler()\n",
        "norm_train_df = pd.DataFrame(min_max_scaler.fit_transform(train_df[cols_normalize]), \n",
        "                             columns=cols_normalize, \n",
        "                             index=train_df.index)\n",
        "join_df = train_df[train_df.columns.difference(cols_normalize)].join(norm_train_df)\n",
        "train_df = join_df.reindex(columns = train_df.columns)\n",
        "\n",
        "######\n",
        "# TEST\n",
        "######\n",
        "# MinMax normalization (from 0 to 1)\n",
        "test_df['cycle_norm'] = test_df['cycle']\n",
        "norm_test_df = pd.DataFrame(min_max_scaler.transform(test_df[cols_normalize]), \n",
        "                            columns=cols_normalize, \n",
        "                            index=test_df.index)\n",
        "test_join_df = test_df[test_df.columns.difference(cols_normalize)].join(norm_test_df)\n",
        "test_df = test_join_df.reindex(columns = test_df.columns)\n",
        "test_df = test_df.reset_index(drop=True)\n",
        "\n",
        "\n",
        "# We use the ground truth dataset to generate labels for the test data.\n",
        "# generate column max for test data\n",
        "rul = pd.DataFrame(test_df.groupby('id')['cycle'].max()).reset_index()\n",
        "rul.columns = ['id', 'max']\n",
        "truth_df.columns = ['more']\n",
        "truth_df['id'] = truth_df.index + 1\n",
        "truth_df['max'] = rul['max'] + truth_df['more']\n",
        "truth_df.drop('more', axis=1, inplace=True)\n",
        "\n",
        "# generate RUL for test data\n",
        "test_df = test_df.merge(truth_df, on=['id'], how='left')\n",
        "test_df['RUL'] = test_df['max'] - test_df['cycle']\n",
        "test_df.drop('max', axis=1, inplace=True)\n",
        "\n",
        "# generate label columns w0 and w1 for test data\n",
        "test_df['label1'] = np.where(test_df['RUL'] <= w1, 1, 0 )\n",
        "test_df['label2'] = test_df['label1']\n",
        "test_df.loc[test_df['RUL'] <= w0, 'label2'] = 2"
      ],
      "metadata": {
        "id": "OroYYjGNUC2s"
      },
      "execution_count": null,
      "outputs": []
    },
    {
      "cell_type": "markdown",
      "source": [
        "**LSTM**"
      ],
      "metadata": {
        "id": "UfYL_zZ6Udaq"
      }
    },
    {
      "cell_type": "code",
      "source": [
        "# pick a large window size of 50 cycles\n",
        "sequence_length = 50\n",
        "\n",
        "# function to reshape features into (samples, time steps, features) \n",
        "def gen_sequence(id_df, seq_length, seq_cols):\n",
        "    \"\"\" Only sequences that meet the window-length are considered, no padding is used. This means for testing\n",
        "    we need to drop those which are below the window-length. An alternative would be to pad sequences so that\n",
        "    we can use shorter ones \"\"\"\n",
        "    # for one id I put all the rows in a single matrix\n",
        "    data_matrix = id_df[seq_cols].values\n",
        "    num_elements = data_matrix.shape[0]\n",
        "    # Iterate over two lists in parallel.\n",
        "    # For example id1 have 192 rows and sequence_length is equal to 50\n",
        "    # so zip iterate over two following list of numbers (0,112),(50,192)\n",
        "    # 0 50 -> from row 0 to row 50\n",
        "    # 1 51 -> from row 1 to row 51\n",
        "    # 2 52 -> from row 2 to row 52\n",
        "    # ...\n",
        "    # 111 191 -> from row 111 to 191\n",
        "    for start, stop in zip(range(0, num_elements-seq_length), range(seq_length, num_elements)):\n",
        "        yield data_matrix[start:stop, :]\n",
        "        \n",
        "# pick the feature columns \n",
        "sensor_cols = ['s' + str(i) for i in range(1,22)]\n",
        "sequence_cols = ['setting1', 'setting2', 'setting3', 'cycle_norm']\n",
        "sequence_cols.extend(sensor_cols)\n",
        "\n",
        "# generator for the sequences\n",
        "seq_gen = (list(gen_sequence(train_df[train_df['id']==id], sequence_length, sequence_cols)) \n",
        "           for id in train_df['id'].unique())\n",
        "\n",
        "# generate sequences and convert to numpy array\n",
        "seq_array = np.concatenate(list(seq_gen)).astype(np.float32)\n",
        "seq_array.shape\n",
        "\n",
        "# function to generate labels\n",
        "def gen_labels(id_df, seq_length, label):\n",
        "    # For one id I put all the labels in a single matrix.\n",
        "    # For example:\n",
        "    # [[1]\n",
        "    # [4]\n",
        "    # [1]\n",
        "    # [5]\n",
        "    # [9]\n",
        "    # ...\n",
        "    # [200]] \n",
        "    data_matrix = id_df[label].values\n",
        "    num_elements = data_matrix.shape[0]\n",
        "    # I have to remove the first seq_length labels\n",
        "    # because for one id the first sequence of seq_length size have as target\n",
        "    # the last label (the previus ones are discarded).\n",
        "    # All the next id's sequences will have associated step by step one label as target. \n",
        "    return data_matrix[seq_length:num_elements, :]\n",
        "\n",
        "# generate labels\n",
        "label_gen = [gen_labels(train_df[train_df['id']==id], sequence_length, ['label1']) \n",
        "             for id in train_df['id'].unique()]\n",
        "label_array = np.concatenate(label_gen).astype(np.float32)\n",
        "label_array.shape\n",
        "\n",
        "# Next, we build a deep network. \n",
        "# The first layer is an LSTM layer with 100 units followed by another LSTM layer with 50 units. \n",
        "# Dropout is also applied after each LSTM layer to control overfitting. \n",
        "# Final layer is a Dense output layer with single unit and sigmoid activation since this is a binary classification problem.\n",
        "# build the network\n",
        "nb_features = seq_array.shape[2]\n",
        "nb_out = label_array.shape[1]\n",
        "\n",
        "model = Sequential()\n",
        "\n",
        "model.add(LSTM(\n",
        "         input_shape=(sequence_length, nb_features),\n",
        "         units=100,\n",
        "         return_sequences=True))\n",
        "model.add(Dropout(0.2))\n",
        "\n",
        "model.add(LSTM(\n",
        "          units=50,\n",
        "          return_sequences=False))\n",
        "model.add(Dropout(0.2))\n",
        "\n",
        "model.add(Dense(units=nb_out, activation='sigmoid'))\n",
        "model.compile(loss='binary_crossentropy', optimizer='adam', metrics=['accuracy'])\n",
        "\n",
        "print(model.summary())\n",
        "\n",
        "# fit the network\n",
        "history = model.fit(seq_array, label_array, epochs=100, batch_size=200, validation_split=0.05, verbose=2,\n",
        "          callbacks = [keras.callbacks.EarlyStopping(monitor='val_loss', min_delta=0, patience=10, verbose=0, mode='min'),\n",
        "                       keras.callbacks.ModelCheckpoint(model_path,monitor='val_loss', save_best_only=True, mode='min', verbose=0)]\n",
        "          )\n",
        "\n",
        "# list all data in history\n",
        "print(history.history.keys())"
      ],
      "metadata": {
        "colab": {
          "base_uri": "https://localhost:8080/"
        },
        "id": "WsP5_qaDUflu",
        "outputId": "b44be80b-dd57-480a-8f36-9634fb24db4e"
      },
      "execution_count": null,
      "outputs": [
        {
          "output_type": "stream",
          "name": "stdout",
          "text": [
            "Model: \"sequential\"\n",
            "_________________________________________________________________\n",
            " Layer (type)                Output Shape              Param #   \n",
            "=================================================================\n",
            " lstm (LSTM)                 (None, 50, 100)           50400     \n",
            "                                                                 \n",
            " dropout (Dropout)           (None, 50, 100)           0         \n",
            "                                                                 \n",
            " lstm_1 (LSTM)               (None, 50)                30200     \n",
            "                                                                 \n",
            " dropout_1 (Dropout)         (None, 50)                0         \n",
            "                                                                 \n",
            " dense (Dense)               (None, 1)                 51        \n",
            "                                                                 \n",
            "=================================================================\n",
            "Total params: 80,651\n",
            "Trainable params: 80,651\n",
            "Non-trainable params: 0\n",
            "_________________________________________________________________\n",
            "None\n",
            "Epoch 1/100\n",
            "75/75 - 26s - loss: 0.2378 - accuracy: 0.9039 - val_loss: 0.0976 - val_accuracy: 0.9552 - 26s/epoch - 351ms/step\n",
            "Epoch 2/100\n",
            "75/75 - 17s - loss: 0.0978 - accuracy: 0.9608 - val_loss: 0.1153 - val_accuracy: 0.9399 - 17s/epoch - 228ms/step\n",
            "Epoch 3/100\n",
            "75/75 - 17s - loss: 0.0832 - accuracy: 0.9666 - val_loss: 0.0568 - val_accuracy: 0.9757 - 17s/epoch - 221ms/step\n",
            "Epoch 4/100\n",
            "75/75 - 17s - loss: 0.0711 - accuracy: 0.9718 - val_loss: 0.0626 - val_accuracy: 0.9808 - 17s/epoch - 221ms/step\n",
            "Epoch 5/100\n",
            "75/75 - 16s - loss: 0.0665 - accuracy: 0.9721 - val_loss: 0.0369 - val_accuracy: 0.9872 - 16s/epoch - 218ms/step\n",
            "Epoch 6/100\n",
            "75/75 - 18s - loss: 0.0611 - accuracy: 0.9743 - val_loss: 0.0692 - val_accuracy: 0.9719 - 18s/epoch - 245ms/step\n",
            "Epoch 7/100\n",
            "75/75 - 16s - loss: 0.0649 - accuracy: 0.9741 - val_loss: 0.0328 - val_accuracy: 0.9859 - 16s/epoch - 215ms/step\n",
            "Epoch 8/100\n",
            "75/75 - 17s - loss: 0.0596 - accuracy: 0.9749 - val_loss: 0.0401 - val_accuracy: 0.9821 - 17s/epoch - 220ms/step\n",
            "Epoch 9/100\n",
            "75/75 - 17s - loss: 0.0552 - accuracy: 0.9770 - val_loss: 0.0395 - val_accuracy: 0.9834 - 17s/epoch - 228ms/step\n",
            "Epoch 10/100\n",
            "75/75 - 16s - loss: 0.0591 - accuracy: 0.9751 - val_loss: 0.0329 - val_accuracy: 0.9898 - 16s/epoch - 219ms/step\n",
            "Epoch 11/100\n",
            "75/75 - 17s - loss: 0.0542 - accuracy: 0.9770 - val_loss: 0.0583 - val_accuracy: 0.9731 - 17s/epoch - 221ms/step\n",
            "Epoch 12/100\n",
            "75/75 - 17s - loss: 0.0563 - accuracy: 0.9761 - val_loss: 0.0427 - val_accuracy: 0.9834 - 17s/epoch - 232ms/step\n",
            "Epoch 13/100\n",
            "75/75 - 17s - loss: 0.0490 - accuracy: 0.9787 - val_loss: 0.0694 - val_accuracy: 0.9680 - 17s/epoch - 227ms/step\n",
            "Epoch 14/100\n",
            "75/75 - 16s - loss: 0.0583 - accuracy: 0.9752 - val_loss: 0.0362 - val_accuracy: 0.9859 - 16s/epoch - 218ms/step\n",
            "Epoch 15/100\n",
            "75/75 - 17s - loss: 0.0514 - accuracy: 0.9783 - val_loss: 0.0486 - val_accuracy: 0.9795 - 17s/epoch - 222ms/step\n",
            "Epoch 16/100\n",
            "75/75 - 17s - loss: 0.0561 - accuracy: 0.9764 - val_loss: 0.0528 - val_accuracy: 0.9808 - 17s/epoch - 227ms/step\n",
            "Epoch 17/100\n",
            "75/75 - 17s - loss: 0.0514 - accuracy: 0.9789 - val_loss: 0.0363 - val_accuracy: 0.9834 - 17s/epoch - 223ms/step\n",
            "dict_keys(['loss', 'accuracy', 'val_loss', 'val_accuracy'])\n"
          ]
        }
      ]
    },
    {
      "cell_type": "markdown",
      "source": [
        "**Model Evaluation on Test set**"
      ],
      "metadata": {
        "id": "K6WEPz3dYe7l"
      }
    },
    {
      "cell_type": "code",
      "metadata": {
        "id": "FpVYSzXkmk5l",
        "colab": {
          "base_uri": "https://localhost:8080/",
          "height": 1000
        },
        "outputId": "fb6b2771-880f-4338-d0af-e5e5cee74a19"
      },
      "source": [
        "# summarize history for Accuracy\n",
        "fig_acc = plt.figure(figsize=(10, 10))\n",
        "plt.plot(history.history['accuracy'])\n",
        "plt.plot(history.history['val_accuracy'])\n",
        "plt.title('model accuracy')\n",
        "plt.ylabel('accuracy')\n",
        "plt.xlabel('epoch')\n",
        "plt.legend(['train', 'test'], loc='upper left')\n",
        "plt.show()\n",
        "fig_acc.savefig(\"model_accuracy.png\")\n",
        "\n",
        "# summarize history for Loss\n",
        "fig_acc = plt.figure(figsize=(10, 10))\n",
        "plt.plot(history.history['loss'])\n",
        "plt.plot(history.history['val_loss'])\n",
        "plt.title('model loss')\n",
        "plt.ylabel('loss')\n",
        "plt.xlabel('epoch')\n",
        "plt.legend(['train', 'test'], loc='upper left')\n",
        "plt.show()\n",
        "fig_acc.savefig(\"model_loss.png\")\n",
        "\n",
        "# training metrics\n",
        "scores = model.evaluate(seq_array, label_array, verbose=1, batch_size=200)\n",
        "print('Accurracy: {}'.format(scores[1]))\n",
        "\n"
      ],
      "execution_count": null,
      "outputs": [
        {
          "output_type": "display_data",
          "data": {
            "text/plain": [
              "<Figure size 720x720 with 1 Axes>"
            ],
            "image/png": "[encoded data removed]"
          },
          "metadata": {
            "needs_background": "light"
          }
        },
        {
          "output_type": "display_data",
          "data": {
            "text/plain": [
              "<Figure size 720x720 with 1 Axes>"
            ],
            "image/png": "[encoded data removed]"
          },
          "metadata": {
            "needs_background": "light"
          }
        },
        {
          "output_type": "stream",
          "name": "stdout",
          "text": [
            "79/79 [==============================] - 7s 84ms/step - loss: 0.0451 - accuracy: 0.9804\n",
            "Accurracy: 0.9804235100746155\n"
          ]
        }
      ]
    },
    {
      "cell_type": "markdown",
      "source": [
        "**Regression**\n",
        "\n",
        "How many more cycles an in-service engine will last before it fails?"
      ],
      "metadata": {
        "id": "XW9_2-J5pWM3"
      }
    },
    {
      "cell_type": "code",
      "source": [
        "import keras\n",
        "import keras.backend as K\n",
        "from keras.layers.core import Activation\n",
        "from keras.models import Sequential,load_model\n",
        "from keras.layers import Dense, Dropout, LSTM\n",
        "\n",
        "import pandas as pd\n",
        "import numpy as np\n",
        "import matplotlib.pyplot as plt\n",
        "import os\n",
        "from sklearn import preprocessing\n",
        "\n",
        "# Setting seed for reproducibility\n",
        "np.random.seed(1234)  \n",
        "PYTHONHASHSEED = 0\n",
        "\n",
        "# define path to save model\n",
        "model_path = 'regression_model.h5'"
      ],
      "metadata": {
        "id": "jxkIjJgTpehN"
      },
      "execution_count": null,
      "outputs": []
    },
    {
      "cell_type": "markdown",
      "source": [
        "**Data Ingestion**"
      ],
      "metadata": {
        "id": "IF2-569Tpnc-"
      }
    },
    {
      "cell_type": "code",
      "source": [
        "# read training data - It is the aircraft engine run-to-failure data.\n",
        "train_df = pd.read_csv('PM_train.txt', sep=\" \", header=None)\n",
        "train_df.drop(train_df.columns[[26, 27]], axis=1, inplace=True)\n",
        "train_df.columns = ['id', 'cycle', 'setting1', 'setting2', 'setting3', 's1', 's2', 's3',\n",
        "                     's4', 's5', 's6', 's7', 's8', 's9', 's10', 's11', 's12', 's13', 's14',\n",
        "                     's15', 's16', 's17', 's18', 's19', 's20', 's21']\n",
        "\n",
        "train_df = train_df.sort_values(['id','cycle'])\n",
        "\n",
        "# read test data - It is the aircraft engine operating data without failure events recorded.\n",
        "test_df = pd.read_csv('PM_test.txt', sep=\" \", header=None)\n",
        "test_df.drop(test_df.columns[[26, 27]], axis=1, inplace=True)\n",
        "test_df.columns = ['id', 'cycle', 'setting1', 'setting2', 'setting3', 's1', 's2', 's3',\n",
        "                     's4', 's5', 's6', 's7', 's8', 's9', 's10', 's11', 's12', 's13', 's14',\n",
        "                     's15', 's16', 's17', 's18', 's19', 's20', 's21']\n",
        "\n",
        "# read ground truth data - It contains the information of true remaining cycles for each engine in the testing data.\n",
        "truth_df = pd.read_csv('PM_truth.txt', sep=\" \", header=None)\n",
        "truth_df.drop(truth_df.columns[[1]], axis=1, inplace=True)"
      ],
      "metadata": {
        "id": "_a3LQ6c_ppet"
      },
      "execution_count": null,
      "outputs": []
    },
    {
      "cell_type": "markdown",
      "source": [
        "**Data Preprocessing**"
      ],
      "metadata": {
        "id": "BDovdvTBpw_i"
      }
    },
    {
      "cell_type": "code",
      "source": [
        "##################################\n",
        "# Data Preprocessing\n",
        "##################################\n",
        "\n",
        "#######\n",
        "# TRAIN\n",
        "#######\n",
        "# Data Labeling - generate column RUL(Remaining Usefull Life or Time to Failure)\n",
        "rul = pd.DataFrame(train_df.groupby('id')['cycle'].max()).reset_index()\n",
        "rul.columns = ['id', 'max']\n",
        "train_df = train_df.merge(rul, on=['id'], how='left')\n",
        "train_df['RUL'] = train_df['max'] - train_df['cycle']\n",
        "train_df.drop('max', axis=1, inplace=True)\n",
        "\n",
        "# generate label columns for training data\n",
        "# we will only make use of \"label1\" for binary classification, \n",
        "# while trying to answer the question: is a specific engine going to fail within w1 cycles?\n",
        "w1 = 30\n",
        "w0 = 15\n",
        "train_df['label1'] = np.where(train_df['RUL'] <= w1, 1, 0 )\n",
        "train_df['label2'] = train_df['label1']\n",
        "train_df.loc[train_df['RUL'] <= w0, 'label2'] = 2\n",
        "\n",
        "# MinMax normalization (from 0 to 1)\n",
        "train_df['cycle_norm'] = train_df['cycle']\n",
        "cols_normalize = train_df.columns.difference(['id','cycle','RUL','label1','label2'])\n",
        "min_max_scaler = preprocessing.MinMaxScaler()\n",
        "norm_train_df = pd.DataFrame(min_max_scaler.fit_transform(train_df[cols_normalize]), \n",
        "                             columns=cols_normalize, \n",
        "                             index=train_df.index)\n",
        "join_df = train_df[train_df.columns.difference(cols_normalize)].join(norm_train_df)\n",
        "train_df = join_df.reindex(columns = train_df.columns)\n",
        "\n",
        "#train_df.to_csv('PredictiveManteinanceEngineTraining.csv', encoding='utf-8',index = None)\n",
        "\n",
        "######\n",
        "# TEST\n",
        "######\n",
        "# MinMax normalization (from 0 to 1)\n",
        "test_df['cycle_norm'] = test_df['cycle']\n",
        "norm_test_df = pd.DataFrame(min_max_scaler.transform(test_df[cols_normalize]), \n",
        "                            columns=cols_normalize, \n",
        "                            index=test_df.index)\n",
        "test_join_df = test_df[test_df.columns.difference(cols_normalize)].join(norm_test_df)\n",
        "test_df = test_join_df.reindex(columns = test_df.columns)\n",
        "test_df = test_df.reset_index(drop=True)\n",
        "print(test_df.head())\n",
        "\n",
        "# We use the ground truth dataset to generate labels for the test data.\n",
        "# generate column max for test data\n",
        "rul = pd.DataFrame(test_df.groupby('id')['cycle'].max()).reset_index()\n",
        "rul.columns = ['id', 'max']\n",
        "truth_df.columns = ['more']\n",
        "truth_df['id'] = truth_df.index + 1\n",
        "truth_df['max'] = rul['max'] + truth_df['more']\n",
        "truth_df.drop('more', axis=1, inplace=True)\n",
        "\n",
        "# generate RUL for test data\n",
        "test_df = test_df.merge(truth_df, on=['id'], how='left')\n",
        "test_df['RUL'] = test_df['max'] - test_df['cycle']\n",
        "test_df.drop('max', axis=1, inplace=True)\n",
        "\n",
        "# generate label columns w0 and w1 for test data\n",
        "test_df['label1'] = np.where(test_df['RUL'] <= w1, 1, 0 )\n",
        "test_df['label2'] = test_df['label1']\n",
        "test_df.loc[test_df['RUL'] <= w0, 'label2'] = 2\n",
        "\n",
        "#test_df.to_csv('PredictiveManteinanceEngineValidation.csv', encoding='utf-8',index = None)\n",
        "\n",
        "# pick a large window size of 50 cycles\n",
        "sequence_length = 50\n",
        "\n",
        "# function to reshape features into (samples, time steps, features) \n",
        "def gen_sequence(id_df, seq_length, seq_cols):\n",
        "    \"\"\" Only sequences that meet the window-length are considered, no padding is used. This means for testing\n",
        "    we need to drop those which are below the window-length. An alternative would be to pad sequences so that\n",
        "    we can use shorter ones \"\"\"\n",
        "    # for one id I put all the rows in a single matrix\n",
        "    data_matrix = id_df[seq_cols].values\n",
        "    num_elements = data_matrix.shape[0]\n",
        "    # Iterate over two lists in parallel.\n",
        "    # For example id1 have 192 rows and sequence_length is equal to 50\n",
        "    # so zip iterate over two following list of numbers (0,112),(50,192)\n",
        "    # 0 50 -> from row 0 to row 50\n",
        "    # 1 51 -> from row 1 to row 51\n",
        "    # 2 52 -> from row 2 to row 52\n",
        "    # ...\n",
        "    # 111 191 -> from row 111 to 191\n",
        "    for start, stop in zip(range(0, num_elements-seq_length), range(seq_length, num_elements)):\n",
        "        yield data_matrix[start:stop, :]\n",
        "        \n",
        "# pick the feature columns \n",
        "sensor_cols = ['s' + str(i) for i in range(1,22)]\n",
        "sequence_cols = ['setting1', 'setting2', 'setting3', 'cycle_norm']\n",
        "sequence_cols.extend(sensor_cols)\n",
        "\n",
        "# TODO for debug \n",
        "# val is a list of 192 - 50 = 142 bi-dimensional array (50 rows x 25 columns)\n",
        "val=list(gen_sequence(train_df[train_df['id']==1], sequence_length, sequence_cols))\n",
        "print(len(val))\n",
        "\n",
        "# generator for the sequences\n",
        "# transform each id of the train dataset in a sequence\n",
        "seq_gen = (list(gen_sequence(train_df[train_df['id']==id], sequence_length, sequence_cols)) \n",
        "           for id in train_df['id'].unique())\n",
        "\n",
        "# generate sequences and convert to numpy array\n",
        "seq_array = np.concatenate(list(seq_gen)).astype(np.float32)\n",
        "print(seq_array.shape)\n",
        "\n",
        "# function to generate labels\n",
        "def gen_labels(id_df, seq_length, label):\n",
        "    \"\"\" Only sequences that meet the window-length are considered, no padding is used. This means for testing\n",
        "    we need to drop those which are below the window-length. An alternative would be to pad sequences so that\n",
        "    we can use shorter ones \"\"\"\n",
        "    # For one id I put all the labels in a single matrix.\n",
        "    # For example:\n",
        "    # [[1]\n",
        "    # [4]\n",
        "    # [1]\n",
        "    # [5]\n",
        "    # [9]\n",
        "    # ...\n",
        "    # [200]] \n",
        "    data_matrix = id_df[label].values\n",
        "    num_elements = data_matrix.shape[0]\n",
        "    # I have to remove the first seq_length labels\n",
        "    # because for one id the first sequence of seq_length size have as target\n",
        "    # the last label (the previus ones are discarded).\n",
        "    # All the next id's sequences will have associated step by step one label as target.\n",
        "    return data_matrix[seq_length:num_elements, :]\n",
        "\n",
        "# generate labels\n",
        "label_gen = [gen_labels(train_df[train_df['id']==id], sequence_length, ['RUL']) \n",
        "             for id in train_df['id'].unique()]\n",
        "\n",
        "label_array = np.concatenate(label_gen).astype(np.float32)\n",
        "label_array.shape"
      ],
      "metadata": {
        "colab": {
          "base_uri": "https://localhost:8080/"
        },
        "id": "oA0f9nWapywY",
        "outputId": "74ec5366-4d0d-473d-b5db-20aa89f9f03a"
      },
      "execution_count": null,
      "outputs": [
        {
          "output_type": "stream",
          "name": "stdout",
          "text": [
            "   id  cycle  setting1  setting2  setting3   s1        s2        s3        s4  \\\n",
            "0   1      1  0.632184  0.750000       0.0  0.0  0.545181  0.310661  0.269413   \n",
            "1   1      2  0.344828  0.250000       0.0  0.0  0.150602  0.379551  0.222316   \n",
            "2   1      3  0.517241  0.583333       0.0  0.0  0.376506  0.346632  0.322248   \n",
            "3   1      4  0.741379  0.500000       0.0  0.0  0.370482  0.285154  0.408001   \n",
            "4   1      5  0.580460  0.500000       0.0  0.0  0.391566  0.352082  0.332039   \n",
            "\n",
            "    s5  ...       s13       s14       s15  s16       s17  s18  s19       s20  \\\n",
            "0  0.0  ...  0.220588  0.132160  0.308965  0.0  0.333333  0.0  0.0  0.558140   \n",
            "1  0.0  ...  0.264706  0.204768  0.213159  0.0  0.416667  0.0  0.0  0.682171   \n",
            "2  0.0  ...  0.220588  0.155640  0.458638  0.0  0.416667  0.0  0.0  0.728682   \n",
            "3  0.0  ...  0.250000  0.170090  0.257022  0.0  0.250000  0.0  0.0  0.666667   \n",
            "4  0.0  ...  0.220588  0.152751  0.300885  0.0  0.166667  0.0  0.0  0.658915   \n",
            "\n",
            "        s21  cycle_norm  \n",
            "0  0.661834     0.00000  \n",
            "1  0.686827     0.00277  \n",
            "2  0.721348     0.00554  \n",
            "3  0.662110     0.00831  \n",
            "4  0.716377     0.01108  \n",
            "\n",
            "[5 rows x 27 columns]\n",
            "142\n",
            "(15631, 50, 25)\n"
          ]
        },
        {
          "output_type": "execute_result",
          "data": {
            "text/plain": [
              "(15631, 1)"
            ]
          },
          "metadata": {},
          "execution_count": 9
        }
      ]
    },
    {
      "cell_type": "markdown",
      "source": [
        "**LSTM**"
      ],
      "metadata": {
        "id": "VTuwzZJqqD75"
      }
    },
    {
      "cell_type": "code",
      "source": [
        "def r2_keras(y_true, y_pred):\n",
        "    \"\"\"Coefficient of Determination \n",
        "    \"\"\"\n",
        "    SS_res =  K.sum(K.square( y_true - y_pred ))\n",
        "    SS_tot = K.sum(K.square( y_true - K.mean(y_true) ) )\n",
        "    return ( 1 - SS_res/(SS_tot + K.epsilon()) )\n",
        "\n",
        "# Next, we build a deep network. \n",
        "# The first layer is an LSTM layer with 100 units followed by another LSTM layer with 50 units. \n",
        "# Dropout is also applied after each LSTM layer to control overfitting. \n",
        "# Final layer is a Dense output layer with single unit and linear activation since this is a regression problem.\n",
        "nb_features = seq_array.shape[2]\n",
        "nb_out = label_array.shape[1]\n",
        "\n",
        "model = Sequential()\n",
        "model.add(LSTM(\n",
        "         input_shape=(sequence_length, nb_features),\n",
        "         units=100,\n",
        "         return_sequences=True))\n",
        "model.add(Dropout(0.2))\n",
        "model.add(LSTM(\n",
        "          units=50,\n",
        "          return_sequences=False))\n",
        "model.add(Dropout(0.2))\n",
        "model.add(Dense(units=nb_out))\n",
        "model.add(Activation(\"linear\"))\n",
        "model.compile(loss='mean_squared_error', optimizer='rmsprop',metrics=['mae',r2_keras])\n",
        "\n",
        "print(model.summary())\n",
        "\n",
        "# fit the network\n",
        "history = model.fit(seq_array, label_array, epochs=100, batch_size=200, validation_split=0.05, verbose=2,\n",
        "          callbacks = [keras.callbacks.EarlyStopping(monitor='val_loss', min_delta=0, patience=10, verbose=0, mode='min'),\n",
        "                       keras.callbacks.ModelCheckpoint(model_path,monitor='val_loss', save_best_only=True, mode='min', verbose=0)]\n",
        "          )\n",
        "\n",
        "# list all data in history\n",
        "print(history.history.keys())"
      ],
      "metadata": {
        "colab": {
          "base_uri": "https://localhost:8080/"
        },
        "id": "CRRhcsIjqGsZ",
        "outputId": "77eebbc5-613d-4119-ad12-a5d0a22c06e4"
      },
      "execution_count": null,
      "outputs": [
        {
          "output_type": "stream",
          "name": "stdout",
          "text": [
            "Model: \"sequential_1\"\n",
            "_________________________________________________________________\n",
            " Layer (type)                Output Shape              Param #   \n",
            "=================================================================\n",
            " lstm_2 (LSTM)               (None, 50, 100)           50400     \n",
            "                                                                 \n",
            " dropout_2 (Dropout)         (None, 50, 100)           0         \n",
            "                                                                 \n",
            " lstm_3 (LSTM)               (None, 50)                30200     \n",
            "                                                                 \n",
            " dropout_3 (Dropout)         (None, 50)                0         \n",
            "                                                                 \n",
            " dense_1 (Dense)             (None, 1)                 51        \n",
            "                                                                 \n",
            " activation (Activation)     (None, 1)                 0         \n",
            "                                                                 \n",
            "=================================================================\n",
            "Total params: 80,651\n",
            "Trainable params: 80,651\n",
            "Non-trainable params: 0\n",
            "_________________________________________________________________\n",
            "None\n",
            "Epoch 1/100\n",
            "75/75 - 21s - loss: 8774.4121 - mae: 74.9486 - r2_keras: -1.7240e+00 - val_loss: 8178.5728 - val_mae: 71.9915 - val_r2_keras: -2.4371e+00 - 21s/epoch - 276ms/step\n",
            "Epoch 2/100\n",
            "75/75 - 16s - loss: 8081.3696 - mae: 70.9326 - r2_keras: -1.4996e+00 - val_loss: 7648.6113 - val_mae: 68.9132 - val_r2_keras: -2.1870e+00 - 16s/epoch - 214ms/step\n",
            "Epoch 3/100\n",
            "75/75 - 16s - loss: 7572.2349 - mae: 67.9820 - r2_keras: -1.3379e+00 - val_loss: 7155.0576 - val_mae: 66.0643 - val_r2_keras: -1.9559e+00 - 16s/epoch - 216ms/step\n",
            "Epoch 4/100\n",
            "75/75 - 16s - loss: 7088.0664 - mae: 65.2228 - r2_keras: -1.1848e+00 - val_loss: 6693.2329 - val_mae: 63.4167 - val_r2_keras: -1.7417e+00 - 16s/epoch - 212ms/step\n",
            "Epoch 5/100\n",
            "75/75 - 17s - loss: 6639.8438 - mae: 62.7007 - r2_keras: -1.0481e+00 - val_loss: 6257.7783 - val_mae: 60.9386 - val_r2_keras: -1.5419e+00 - 17s/epoch - 221ms/step\n",
            "Epoch 6/100\n",
            "75/75 - 16s - loss: 6213.0352 - mae: 60.2910 - r2_keras: -9.0839e-01 - val_loss: 5854.0654 - val_mae: 58.6604 - val_r2_keras: -1.3588e+00 - 16s/epoch - 214ms/step\n",
            "Epoch 7/100\n",
            "75/75 - 16s - loss: 5821.3960 - mae: 58.1274 - r2_keras: -7.8667e-01 - val_loss: 5476.6626 - val_mae: 56.5518 - val_r2_keras: -1.1900e+00 - 16s/epoch - 215ms/step\n",
            "Epoch 8/100\n",
            "75/75 - 17s - loss: 5453.9902 - mae: 56.0899 - r2_keras: -6.7565e-01 - val_loss: 5128.9072 - val_mae: 54.6337 - val_r2_keras: -1.0371e+00 - 17s/epoch - 222ms/step\n",
            "Epoch 9/100\n",
            "75/75 - 16s - loss: 5120.5942 - mae: 54.2860 - r2_keras: -5.7600e-01 - val_loss: 4810.4448 - val_mae: 52.9012 - val_r2_keras: -8.9985e-01 - 16s/epoch - 217ms/step\n",
            "Epoch 10/100\n",
            "75/75 - 16s - loss: 4814.0469 - mae: 52.6487 - r2_keras: -4.7721e-01 - val_loss: 4521.8379 - val_mae: 51.3569 - val_r2_keras: -7.7842e-01 - 16s/epoch - 215ms/step\n",
            "Epoch 11/100\n",
            "75/75 - 16s - loss: 4541.7842 - mae: 51.2433 - r2_keras: -3.9434e-01 - val_loss: 4258.8145 - val_mae: 49.9785 - val_r2_keras: -6.7105e-01 - 16s/epoch - 214ms/step\n",
            "Epoch 12/100\n",
            "75/75 - 16s - loss: 4277.3750 - mae: 49.8851 - r2_keras: -3.1296e-01 - val_loss: 4026.9915 - val_mae: 48.7979 - val_r2_keras: -5.8001e-01 - 16s/epoch - 215ms/step\n",
            "Epoch 13/100\n",
            "75/75 - 16s - loss: 4069.8218 - mae: 48.8471 - r2_keras: -2.5252e-01 - val_loss: 3822.1965 - val_mae: 47.7902 - val_r2_keras: -5.0361e-01 - 16s/epoch - 213ms/step\n",
            "Epoch 14/100\n",
            "75/75 - 16s - loss: 3877.0417 - mae: 47.9445 - r2_keras: -1.9180e-01 - val_loss: 3648.6169 - val_mae: 46.9745 - val_r2_keras: -4.4330e-01 - 16s/epoch - 215ms/step\n",
            "Epoch 15/100\n",
            "75/75 - 16s - loss: 3711.7542 - mae: 47.2192 - r2_keras: -1.4001e-01 - val_loss: 3501.4587 - val_mae: 46.3301 - val_r2_keras: -3.9726e-01 - 16s/epoch - 213ms/step\n",
            "Epoch 16/100\n",
            "75/75 - 16s - loss: 3587.6858 - mae: 46.7664 - r2_keras: -1.0564e-01 - val_loss: 3382.6074 - val_mae: 45.8621 - val_r2_keras: -3.6597e-01 - 16s/epoch - 212ms/step\n",
            "Epoch 17/100\n",
            "75/75 - 16s - loss: 3476.7703 - mae: 46.3635 - r2_keras: -6.7703e-02 - val_loss: 3294.0457 - val_mae: 45.5719 - val_r2_keras: -3.4925e-01 - 16s/epoch - 213ms/step\n",
            "Epoch 18/100\n",
            "75/75 - 16s - loss: 3401.7146 - mae: 46.1746 - r2_keras: -4.5085e-02 - val_loss: 3230.8123 - val_mae: 45.4335 - val_r2_keras: -3.4504e-01 - 16s/epoch - 213ms/step\n",
            "Epoch 19/100\n",
            "75/75 - 16s - loss: 3341.0857 - mae: 46.0201 - r2_keras: -2.5426e-02 - val_loss: 3193.6582 - val_mae: 45.4265 - val_r2_keras: -3.5084e-01 - 16s/epoch - 212ms/step\n",
            "Epoch 20/100\n",
            "75/75 - 16s - loss: 3304.2478 - mae: 46.0673 - r2_keras: -1.5432e-02 - val_loss: 3175.8801 - val_mae: 45.4950 - val_r2_keras: -3.6157e-01 - 16s/epoch - 215ms/step\n",
            "Epoch 21/100\n",
            "75/75 - 16s - loss: 3304.4194 - mae: 46.2090 - r2_keras: -1.4523e-02 - val_loss: 3168.9470 - val_mae: 45.5944 - val_r2_keras: -3.7400e-01 - 16s/epoch - 215ms/step\n",
            "Epoch 22/100\n",
            "75/75 - 16s - loss: 3309.2222 - mae: 46.3733 - r2_keras: -1.6089e-02 - val_loss: 3168.1636 - val_mae: 45.6305 - val_r2_keras: -3.7801e-01 - 16s/epoch - 214ms/step\n",
            "Epoch 23/100\n",
            "75/75 - 16s - loss: 3309.4956 - mae: 46.3487 - r2_keras: -1.9086e-02 - val_loss: 3162.5117 - val_mae: 45.3920 - val_r2_keras: -3.5505e-01 - 16s/epoch - 214ms/step\n",
            "Epoch 24/100\n",
            "75/75 - 16s - loss: 3315.0093 - mae: 45.7261 - r2_keras: -1.5686e-02 - val_loss: 2634.3535 - val_mae: 39.3221 - val_r2_keras: -1.3476e-01 - 16s/epoch - 215ms/step\n",
            "Epoch 25/100\n",
            "75/75 - 16s - loss: 2330.9949 - mae: 34.4381 - r2_keras: 0.2887 - val_loss: 2010.3290 - val_mae: 31.6837 - val_r2_keras: 0.2806 - 16s/epoch - 213ms/step\n",
            "Epoch 26/100\n",
            "75/75 - 16s - loss: 2007.1473 - mae: 30.4054 - r2_keras: 0.3887 - val_loss: 1902.1466 - val_mae: 27.2899 - val_r2_keras: 0.3597 - 16s/epoch - 215ms/step\n",
            "Epoch 27/100\n",
            "75/75 - 16s - loss: 1813.0714 - mae: 28.0010 - r2_keras: 0.4440 - val_loss: 1683.9344 - val_mae: 27.6843 - val_r2_keras: 0.4127 - 16s/epoch - 212ms/step\n",
            "Epoch 28/100\n",
            "75/75 - 16s - loss: 1664.5240 - mae: 26.4590 - r2_keras: 0.4927 - val_loss: 1482.7258 - val_mae: 25.0114 - val_r2_keras: 0.4583 - 16s/epoch - 213ms/step\n",
            "Epoch 29/100\n",
            "75/75 - 16s - loss: 1534.9956 - mae: 24.8966 - r2_keras: 0.5319 - val_loss: 1300.9779 - val_mae: 22.6610 - val_r2_keras: 0.5541 - 16s/epoch - 216ms/step\n",
            "Epoch 30/100\n",
            "75/75 - 16s - loss: 1421.1940 - mae: 23.8566 - r2_keras: 0.5661 - val_loss: 1215.7219 - val_mae: 20.6357 - val_r2_keras: 0.6049 - 16s/epoch - 214ms/step\n",
            "Epoch 31/100\n",
            "75/75 - 16s - loss: 1342.9486 - mae: 23.0537 - r2_keras: 0.5913 - val_loss: 1310.0728 - val_mae: 21.7283 - val_r2_keras: 0.5570 - 16s/epoch - 215ms/step\n",
            "Epoch 32/100\n",
            "75/75 - 16s - loss: 1241.5367 - mae: 22.0599 - r2_keras: 0.6208 - val_loss: 1099.2151 - val_mae: 21.5646 - val_r2_keras: 0.5825 - 16s/epoch - 213ms/step\n",
            "Epoch 33/100\n",
            "75/75 - 16s - loss: 1165.1578 - mae: 21.2092 - r2_keras: 0.6452 - val_loss: 1047.1947 - val_mae: 20.9816 - val_r2_keras: 0.6087 - 16s/epoch - 213ms/step\n",
            "Epoch 34/100\n",
            "75/75 - 16s - loss: 1103.5319 - mae: 20.6162 - r2_keras: 0.6644 - val_loss: 1020.8654 - val_mae: 19.5407 - val_r2_keras: 0.6285 - 16s/epoch - 212ms/step\n",
            "Epoch 35/100\n",
            "75/75 - 16s - loss: 1050.0818 - mae: 20.1554 - r2_keras: 0.6786 - val_loss: 874.3635 - val_mae: 17.8216 - val_r2_keras: 0.6882 - 16s/epoch - 215ms/step\n",
            "Epoch 36/100\n",
            "75/75 - 16s - loss: 995.4244 - mae: 19.6704 - r2_keras: 0.6964 - val_loss: 1115.0969 - val_mae: 21.0048 - val_r2_keras: 0.6075 - 16s/epoch - 214ms/step\n",
            "Epoch 37/100\n",
            "75/75 - 16s - loss: 940.9770 - mae: 19.0250 - r2_keras: 0.7150 - val_loss: 1061.5774 - val_mae: 23.4739 - val_r2_keras: 0.5360 - 16s/epoch - 216ms/step\n",
            "Epoch 38/100\n",
            "75/75 - 16s - loss: 913.8926 - mae: 18.9343 - r2_keras: 0.7226 - val_loss: 1124.7531 - val_mae: 19.3978 - val_r2_keras: 0.6205 - 16s/epoch - 211ms/step\n",
            "Epoch 39/100\n",
            "75/75 - 16s - loss: 876.5399 - mae: 18.5650 - r2_keras: 0.7320 - val_loss: 1116.6489 - val_mae: 23.1447 - val_r2_keras: 0.4258 - 16s/epoch - 214ms/step\n",
            "Epoch 40/100\n",
            "75/75 - 16s - loss: 839.8484 - mae: 18.1118 - r2_keras: 0.7433 - val_loss: 767.8104 - val_mae: 17.8108 - val_r2_keras: 0.6679 - 16s/epoch - 212ms/step\n",
            "Epoch 41/100\n",
            "75/75 - 16s - loss: 825.6849 - mae: 18.0662 - r2_keras: 0.7473 - val_loss: 840.9492 - val_mae: 15.8702 - val_r2_keras: 0.7037 - 16s/epoch - 211ms/step\n",
            "Epoch 42/100\n",
            "75/75 - 16s - loss: 786.7865 - mae: 17.6458 - r2_keras: 0.7606 - val_loss: 876.0491 - val_mae: 21.8742 - val_r2_keras: 0.6139 - 16s/epoch - 212ms/step\n",
            "Epoch 43/100\n",
            "75/75 - 16s - loss: 769.8099 - mae: 17.5544 - r2_keras: 0.7642 - val_loss: 730.5793 - val_mae: 16.1017 - val_r2_keras: 0.7084 - 16s/epoch - 213ms/step\n",
            "Epoch 44/100\n",
            "75/75 - 16s - loss: 748.9992 - mae: 17.3038 - r2_keras: 0.7717 - val_loss: 701.0591 - val_mae: 16.4118 - val_r2_keras: 0.6959 - 16s/epoch - 212ms/step\n",
            "Epoch 45/100\n",
            "75/75 - 16s - loss: 735.9333 - mae: 17.2827 - r2_keras: 0.7744 - val_loss: 902.9812 - val_mae: 21.5780 - val_r2_keras: 0.5393 - 16s/epoch - 212ms/step\n",
            "Epoch 46/100\n",
            "75/75 - 16s - loss: 725.4548 - mae: 17.0822 - r2_keras: 0.7782 - val_loss: 817.5613 - val_mae: 16.1575 - val_r2_keras: 0.7062 - 16s/epoch - 213ms/step\n",
            "Epoch 47/100\n",
            "75/75 - 16s - loss: 693.2482 - mae: 16.6942 - r2_keras: 0.7880 - val_loss: 767.1900 - val_mae: 17.6470 - val_r2_keras: 0.6532 - 16s/epoch - 214ms/step\n",
            "Epoch 48/100\n",
            "75/75 - 16s - loss: 689.5156 - mae: 16.6670 - r2_keras: 0.7901 - val_loss: 832.4171 - val_mae: 18.0759 - val_r2_keras: 0.6112 - 16s/epoch - 214ms/step\n",
            "Epoch 49/100\n",
            "75/75 - 16s - loss: 678.5350 - mae: 16.5478 - r2_keras: 0.7951 - val_loss: 888.5865 - val_mae: 19.4817 - val_r2_keras: 0.5727 - 16s/epoch - 212ms/step\n",
            "Epoch 50/100\n",
            "75/75 - 16s - loss: 654.9173 - mae: 16.3915 - r2_keras: 0.7999 - val_loss: 879.8452 - val_mae: 16.7671 - val_r2_keras: 0.6672 - 16s/epoch - 213ms/step\n",
            "Epoch 51/100\n",
            "75/75 - 16s - loss: 641.7986 - mae: 16.1536 - r2_keras: 0.8037 - val_loss: 788.6625 - val_mae: 18.6003 - val_r2_keras: 0.6268 - 16s/epoch - 217ms/step\n",
            "Epoch 52/100\n",
            "75/75 - 16s - loss: 622.2687 - mae: 15.9053 - r2_keras: 0.8076 - val_loss: 1037.4670 - val_mae: 21.1514 - val_r2_keras: 0.6074 - 16s/epoch - 215ms/step\n",
            "Epoch 53/100\n",
            "75/75 - 16s - loss: 605.2868 - mae: 15.7156 - r2_keras: 0.8145 - val_loss: 561.6159 - val_mae: 14.9050 - val_r2_keras: 0.7630 - 16s/epoch - 213ms/step\n",
            "Epoch 54/100\n",
            "75/75 - 16s - loss: 605.4373 - mae: 15.7036 - r2_keras: 0.8154 - val_loss: 841.0747 - val_mae: 18.4004 - val_r2_keras: 0.5564 - 16s/epoch - 215ms/step\n",
            "Epoch 55/100\n",
            "75/75 - 16s - loss: 583.2899 - mae: 15.4964 - r2_keras: 0.8218 - val_loss: 828.9360 - val_mae: 18.2373 - val_r2_keras: 0.5731 - 16s/epoch - 214ms/step\n",
            "Epoch 56/100\n",
            "75/75 - 16s - loss: 572.3712 - mae: 15.3701 - r2_keras: 0.8250 - val_loss: 1095.4526 - val_mae: 18.1889 - val_r2_keras: 0.6327 - 16s/epoch - 212ms/step\n",
            "Epoch 57/100\n",
            "75/75 - 16s - loss: 562.9895 - mae: 15.2621 - r2_keras: 0.8277 - val_loss: 1007.0479 - val_mae: 19.8759 - val_r2_keras: 0.5218 - 16s/epoch - 213ms/step\n",
            "Epoch 58/100\n",
            "75/75 - 16s - loss: 555.7382 - mae: 15.1885 - r2_keras: 0.8309 - val_loss: 848.7502 - val_mae: 18.8509 - val_r2_keras: 0.5661 - 16s/epoch - 212ms/step\n",
            "Epoch 59/100\n",
            "75/75 - 16s - loss: 540.3098 - mae: 15.0281 - r2_keras: 0.8324 - val_loss: 814.7557 - val_mae: 17.0690 - val_r2_keras: 0.6819 - 16s/epoch - 213ms/step\n",
            "Epoch 60/100\n",
            "75/75 - 16s - loss: 518.8290 - mae: 14.6626 - r2_keras: 0.8421 - val_loss: 842.9163 - val_mae: 16.7831 - val_r2_keras: 0.6310 - 16s/epoch - 213ms/step\n",
            "Epoch 61/100\n",
            "75/75 - 16s - loss: 518.1993 - mae: 14.6031 - r2_keras: 0.8419 - val_loss: 902.9824 - val_mae: 18.1094 - val_r2_keras: 0.5880 - 16s/epoch - 214ms/step\n",
            "Epoch 62/100\n",
            "75/75 - 16s - loss: 503.4605 - mae: 14.5690 - r2_keras: 0.8463 - val_loss: 1315.8420 - val_mae: 21.5420 - val_r2_keras: 0.4855 - 16s/epoch - 216ms/step\n",
            "Epoch 63/100\n",
            "75/75 - 16s - loss: 501.9875 - mae: 14.4972 - r2_keras: 0.8464 - val_loss: 1135.1365 - val_mae: 19.4999 - val_r2_keras: 0.5002 - 16s/epoch - 213ms/step\n",
            "dict_keys(['loss', 'mae', 'r2_keras', 'val_loss', 'val_mae', 'val_r2_keras'])\n"
          ]
        }
      ]
    },
    {
      "cell_type": "markdown",
      "source": [
        "**Model Evaluation on Test set**"
      ],
      "metadata": {
        "id": "YLFoU0jLuQ3f"
      }
    },
    {
      "cell_type": "code",
      "source": [
        "# summarize history for R^2\n",
        "fig_acc = plt.figure(figsize=(10, 10))\n",
        "plt.plot(history.history['r2_keras'])\n",
        "plt.plot(history.history['val_r2_keras'])\n",
        "plt.title('model r^2')\n",
        "plt.ylabel('R^2')\n",
        "plt.xlabel('epoch')\n",
        "plt.legend(['train', 'test'], loc='upper left')\n",
        "plt.show()\n",
        "fig_acc.savefig(\"model_r2.png\")\n",
        "\n",
        "\n",
        "# summarize history for Loss\n",
        "fig_acc = plt.figure(figsize=(10, 10))\n",
        "plt.plot(history.history['loss'])\n",
        "plt.plot(history.history['val_loss'])\n",
        "plt.title('model loss')\n",
        "plt.ylabel('loss')\n",
        "plt.xlabel('epoch')\n",
        "plt.legend(['train', 'test'], loc='upper left')\n",
        "plt.show()\n",
        "fig_acc.savefig(\"model_regression_loss.png\")\n",
        "\n",
        "# training metrics\n",
        "scores = model.evaluate(seq_array, label_array, verbose=1, batch_size=200)\n",
        "print('\\nMAE: {}'.format(scores[1]))\n",
        "print('\\nR^2: {}'.format(scores[2]))\n",
        "\n",
        "y_pred = model.predict(seq_array,verbose=1, batch_size=200)\n",
        "y_true = label_array\n",
        "\n",
        "test_set = pd.DataFrame(y_pred)\n",
        "test_set.to_csv('submit_train.csv', index = None)"
      ],
      "metadata": {
        "colab": {
          "base_uri": "https://localhost:8080/",
          "height": 1000
        },
        "id": "tHViYIZQuS22",
        "outputId": "3926067c-d16d-456f-a528-30a30fe54378"
      },
      "execution_count": null,
      "outputs": [
        {
          "output_type": "display_data",
          "data": {
            "text/plain": [
              "<Figure size 720x720 with 1 Axes>"
            ],
            "image/png": "[encoded data removed]"
          },
          "metadata": {
            "needs_background": "light"
          }
        },
        {
          "output_type": "display_data",
          "data": {
            "text/plain": [
              "<Figure size 720x720 with 1 Axes>"
            ],
            "image/png": "[encoded data removed]"
          },
          "metadata": {
            "needs_background": "light"
          }
        },
        {
          "output_type": "stream",
          "name": "stdout",
          "text": [
            "79/79 [==============================] - 6s 78ms/step - loss: 531.7436 - mae: 14.0193 - r2_keras: 0.8186\n",
            "\n",
            "MAE: 14.019282341003418\n",
            "\n",
            "R^2: 0.8185795545578003\n",
            "79/79 [==============================] - 7s 77ms/step\n"
          ]
        }
      ]
    }
  ]
}